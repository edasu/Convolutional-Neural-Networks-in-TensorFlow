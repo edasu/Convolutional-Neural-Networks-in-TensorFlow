{
  "nbformat": 4,
  "nbformat_minor": 0,
  "metadata": {
    "accelerator": "GPU",
    "colab": {
      "name": "C2_W3_Lab_1_transfer_learning.ipynb",
      "provenance": [],
      "collapsed_sections": [],
      "toc_visible": true
    },
    "kernelspec": {
      "name": "python3",
      "display_name": "Python 3"
    },
    "language_info": {
      "name": "python"
    }
  },
  "cells": [
    {
      "cell_type": "markdown",
      "metadata": {
        "id": "rX8mhOLljYeM"
      },
      "source": [
        "##### Copyright 2019 The TensorFlow Authors."
      ]
    },
    {
      "cell_type": "code",
      "metadata": {
        "cellView": "form",
        "id": "BZSlp3DAjdYf"
      },
      "source": [
        "#@title Licensed under the Apache License, Version 2.0 (the \"License\");\n",
        "# you may not use this file except in compliance with the License.\n",
        "# You may obtain a copy of the License at\n",
        "#\n",
        "# https://www.apache.org/licenses/LICENSE-2.0\n",
        "#\n",
        "# Unless required by applicable law or agreed to in writing, software\n",
        "# distributed under the License is distributed on an \"AS IS\" BASIS,\n",
        "# WITHOUT WARRANTIES OR CONDITIONS OF ANY KIND, either express or implied.\n",
        "# See the License for the specific language governing permissions and\n",
        "# limitations under the License."
      ],
      "execution_count": null,
      "outputs": []
    },
    {
      "cell_type": "markdown",
      "metadata": {
        "id": "Qvrr8pLRzJMV"
      },
      "source": [
        "**IMPORTANT NOTE:** This notebook is designed to run as a Colab. Click the button on top that says, `Open in Colab`, to run this notebook as a Colab. Running the notebook on your local machine might result in some of the code blocks throwing errors."
      ]
    },
    {
      "cell_type": "code",
      "metadata": {
        "id": "1xJZ5glPPCRz",
        "outputId": "145f2e64-2493-457b-98df-f86d8ab2f77e",
        "colab": {
          "base_uri": "https://localhost:8080/"
        }
      },
      "source": [
        "import os\n",
        "\n",
        "from tensorflow.keras import layers #keras layers API, to pick at the layers, \n",
        "                                    #and to understand which ones we want to use, and which ones we want to retrain.\n",
        "from tensorflow.keras import Model\n",
        "\n",
        "!wget --no-check-certificate \\\n",
        "    https://storage.googleapis.com/mledu-datasets/inception_v3_weights_tf_dim_ordering_tf_kernels_notop.h5 \\\n",
        "    -O /tmp/inception_v3_weights_tf_dim_ordering_tf_kernels_notop.h5      # this link containes,like snapshot of the model after being trained. \n",
        "  \n"
      ],
      "execution_count": 4,
      "outputs": [
        {
          "output_type": "stream",
          "name": "stdout",
          "text": [
            "--2021-12-25 14:05:56--  https://storage.googleapis.com/mledu-datasets/inception_v3_weights_tf_dim_ordering_tf_kernels_notop.h5\n",
            "Resolving storage.googleapis.com (storage.googleapis.com)... 74.125.202.128, 74.125.69.128, 64.233.183.128, ...\n",
            "Connecting to storage.googleapis.com (storage.googleapis.com)|74.125.202.128|:443... connected.\n",
            "HTTP request sent, awaiting response... 200 OK\n",
            "Length: 87910968 (84M) [application/x-hdf]\n",
            "Saving to: ‘/tmp/inception_v3_weights_tf_dim_ordering_tf_kernels_notop.h5’\n",
            "\n",
            "/tmp/inception_v3_w 100%[===================>]  83.84M   170MB/s    in 0.5s    \n",
            "\n",
            "2021-12-25 14:05:57 (170 MB/s) - ‘/tmp/inception_v3_weights_tf_dim_ordering_tf_kernels_notop.h5’ saved [87910968/87910968]\n",
            "\n"
          ]
        }
      ]
    },
    {
      "cell_type": "code",
      "metadata": {
        "id": "KsiBCpQ1VvPp",
        "outputId": "f7f6c5b8-b368-432b-be48-8280324063ec",
        "colab": {
          "base_uri": "https://localhost:8080/"
        }
      },
      "source": [
        "from tensorflow.keras.applications.inception_v3 import InceptionV3 #keras has the model definition built\n",
        "\n",
        "local_weights_file = '/tmp/inception_v3_weights_tf_dim_ordering_tf_kernels_notop.h5'\n",
        "\n",
        "pre_trained_model = InceptionV3(input_shape = (150, 150, 3), \n",
        "                                include_top = False, # inception V3 has a fully-connected layer at the top so by setting include_top to false, \n",
        "                                                     #you're specifying that you want to ignore this and get straight to the convolutions. \n",
        "                                weights = None)\n",
        "\n",
        "pre_trained_model.load_weights(local_weights_file)\n",
        "#we can iterate through its layers and lock them, saying that they're not(False) going to be trainable with this code. \n",
        "for layer in pre_trained_model.layers:\n",
        "  layer.trainable = False\n",
        "  \n",
        "  #pre_trained_model.summary()\n",
        "\n",
        "last_layer = pre_trained_model.get_layer('mixed7') #All of the layers have names, so you can look up the name of the last layer that you want to use.\n",
        "                                                   # mixed7, which is the output of a lot of convolution that are 7 by 7.\n",
        "print('last layer output shape: ', last_layer.output_shape)\n",
        "last_output = last_layer.output"
      ],
      "execution_count": 3,
      "outputs": [
        {
          "output_type": "stream",
          "name": "stdout",
          "text": [
            "last layer output shape:  (None, 7, 7, 768)\n"
          ]
        }
      ]
    },
    {
      "cell_type": "code",
      "metadata": {
        "id": "BMXb913pbvFg"
      },
      "source": [
        "from tensorflow.keras.optimizers import RMSprop\n",
        "\n",
        "# Flatten the output layer to 1 dimension\n",
        "# should look exactly like the dense models that we created way back\n",
        "# The code is a little different, but this is just a different way of using the layers API.\n",
        "x = layers.Flatten()(last_output)\n",
        "\n",
        "# Add a fully connected layer with 1,024 hidden units and ReLU activation\n",
        "x = layers.Dense(1024, activation='relu')(x)\n",
        "\n",
        "# Add a dropout rate of 0.2\n",
        "x = layers.Dropout(0.2)(x)  # dropping out 20% of our neurons                \n",
        "\n",
        "# Add a final output sigmoid layer for classification\n",
        "x = layers.Dense  (1, activation='sigmoid')(x)           \n",
        "\n",
        "#Model abstract class. And passing at the input and the layers definition that you've just created.\n",
        "model = Model( pre_trained_model.input, x) \n",
        "\n",
        "#combile with a optimazer, loss function and result matrics you want to collect\n",
        "model.compile(optimizer = RMSprop(learning_rate=0.0001), \n",
        "              loss = 'binary_crossentropy', \n",
        "              metrics = ['accuracy'])\n"
      ],
      "execution_count": 5,
      "outputs": []
    },
    {
      "cell_type": "code",
      "metadata": {
        "id": "O4s8HckqGlnb",
        "outputId": "d4ec09b8-d4fe-48f6-c52d-80bf825ffcee",
        "colab": {
          "base_uri": "https://localhost:8080/"
        }
      },
      "source": [
        "# will download the abbreviated version of cats versus dogs,\n",
        "#unzip it into training and validation directories, \n",
        "#and then set up the image generators.\n",
        "!gdown --id 1RL0T7Rg4XqQNRCkjfnLo4goOJQ7XZro9\n",
        "\n",
        "from tensorflow.keras.preprocessing.image import ImageDataGenerator\n",
        "\n",
        "import os\n",
        "import zipfile\n",
        "\n",
        "zip_ref = zipfile.ZipFile(\"./cats_and_dogs_filtered.zip\", 'r')\n",
        "zip_ref.extractall(\"tmp/\")\n",
        "zip_ref.close()\n",
        "\n",
        "# Define our example directories and files\n",
        "base_dir = 'tmp/cats_and_dogs_filtered'\n",
        "\n",
        "train_dir = os.path.join( base_dir, 'train')\n",
        "validation_dir = os.path.join( base_dir, 'validation')\n",
        "\n",
        "\n",
        "train_cats_dir = os.path.join(train_dir, 'cats') # Directory with our training cat pictures\n",
        "train_dogs_dir = os.path.join(train_dir, 'dogs') # Directory with our training dog pictures\n",
        "validation_cats_dir = os.path.join(validation_dir, 'cats') # Directory with our validation cat pictures\n",
        "validation_dogs_dir = os.path.join(validation_dir, 'dogs')# Directory with our validation dog pictures\n",
        "\n",
        "train_cat_fnames = os.listdir(train_cats_dir)\n",
        "train_dog_fnames = os.listdir(train_dogs_dir)\n",
        "\n",
        "# Add our data-augmentation parameters to ImageDataGenerator\n",
        "train_datagen = ImageDataGenerator(rescale = 1./255.,\n",
        "                                   rotation_range = 40,\n",
        "                                   width_shift_range = 0.2,\n",
        "                                   height_shift_range = 0.2,\n",
        "                                   shear_range = 0.2,\n",
        "                                   zoom_range = 0.2,\n",
        "                                   horizontal_flip = True)\n",
        "\n",
        "# Note that the validation data should not be augmented!\n",
        "test_datagen = ImageDataGenerator( rescale = 1.0/255. )\n",
        "\n",
        "# Flow training images in batches of 20 using train_datagen generator\n",
        "train_generator = train_datagen.flow_from_directory(train_dir,\n",
        "                                                    batch_size = 20,\n",
        "                                                    class_mode = 'binary', \n",
        "                                                    target_size = (150, 150))     \n",
        "\n",
        "# Flow validation images in batches of 20 using test_datagen generator\n",
        "validation_generator =  test_datagen.flow_from_directory( validation_dir,\n",
        "                                                          batch_size  = 20,\n",
        "                                                          class_mode  = 'binary', \n",
        "                                                          target_size = (150, 150))"
      ],
      "execution_count": 7,
      "outputs": [
        {
          "output_type": "stream",
          "name": "stdout",
          "text": [
            "Downloading...\n",
            "From: https://drive.google.com/uc?id=1RL0T7Rg4XqQNRCkjfnLo4goOJQ7XZro9\n",
            "To: /content/cats_and_dogs_filtered.zip\n",
            "100% 68.6M/68.6M [00:00<00:00, 83.6MB/s]\n",
            "Found 2000 images belonging to 2 classes.\n",
            "Found 1000 images belonging to 2 classes.\n"
          ]
        }
      ]
    },
    {
      "cell_type": "code",
      "metadata": {
        "id": "Blhq2MAUeyGA",
        "outputId": "4534762a-3043-4928-f87f-a6ad1ce8204e",
        "colab": {
          "base_uri": "https://localhost:8080/"
        }
      },
      "source": [
        "history = model.fit(\n",
        "            train_generator,\n",
        "            validation_data = validation_generator,\n",
        "            steps_per_epoch = 100,\n",
        "            epochs = 20,\n",
        "            validation_steps = 50,\n",
        "            verbose = 2)"
      ],
      "execution_count": 8,
      "outputs": [
        {
          "output_type": "stream",
          "name": "stdout",
          "text": [
            "Epoch 1/20\n",
            "100/100 - 36s - loss: 0.3472 - accuracy: 0.8660 - val_loss: 0.2273 - val_accuracy: 0.9200 - 36s/epoch - 365ms/step\n",
            "Epoch 2/20\n",
            "100/100 - 32s - loss: 0.2344 - accuracy: 0.9070 - val_loss: 0.1255 - val_accuracy: 0.9560 - 32s/epoch - 324ms/step\n",
            "Epoch 3/20\n",
            "100/100 - 23s - loss: 0.1947 - accuracy: 0.9280 - val_loss: 0.1071 - val_accuracy: 0.9650 - 23s/epoch - 230ms/step\n",
            "Epoch 4/20\n",
            "100/100 - 22s - loss: 0.2016 - accuracy: 0.9265 - val_loss: 0.1168 - val_accuracy: 0.9620 - 22s/epoch - 224ms/step\n",
            "Epoch 5/20\n",
            "100/100 - 24s - loss: 0.1956 - accuracy: 0.9290 - val_loss: 0.1039 - val_accuracy: 0.9660 - 24s/epoch - 240ms/step\n",
            "Epoch 6/20\n",
            "100/100 - 22s - loss: 0.1720 - accuracy: 0.9380 - val_loss: 0.1366 - val_accuracy: 0.9560 - 22s/epoch - 225ms/step\n",
            "Epoch 7/20\n",
            "100/100 - 22s - loss: 0.1481 - accuracy: 0.9460 - val_loss: 0.1222 - val_accuracy: 0.9680 - 22s/epoch - 220ms/step\n",
            "Epoch 8/20\n",
            "100/100 - 22s - loss: 0.1956 - accuracy: 0.9325 - val_loss: 0.1215 - val_accuracy: 0.9610 - 22s/epoch - 223ms/step\n",
            "Epoch 9/20\n",
            "100/100 - 22s - loss: 0.1679 - accuracy: 0.9415 - val_loss: 0.1147 - val_accuracy: 0.9630 - 22s/epoch - 221ms/step\n",
            "Epoch 10/20\n",
            "100/100 - 22s - loss: 0.1491 - accuracy: 0.9500 - val_loss: 0.1085 - val_accuracy: 0.9680 - 22s/epoch - 220ms/step\n",
            "Epoch 11/20\n",
            "100/100 - 23s - loss: 0.1632 - accuracy: 0.9470 - val_loss: 0.1278 - val_accuracy: 0.9650 - 23s/epoch - 228ms/step\n",
            "Epoch 12/20\n",
            "100/100 - 22s - loss: 0.1636 - accuracy: 0.9480 - val_loss: 0.1099 - val_accuracy: 0.9680 - 22s/epoch - 221ms/step\n",
            "Epoch 13/20\n",
            "100/100 - 22s - loss: 0.1549 - accuracy: 0.9475 - val_loss: 0.1572 - val_accuracy: 0.9560 - 22s/epoch - 224ms/step\n",
            "Epoch 14/20\n",
            "100/100 - 22s - loss: 0.1672 - accuracy: 0.9430 - val_loss: 0.1186 - val_accuracy: 0.9650 - 22s/epoch - 218ms/step\n",
            "Epoch 15/20\n",
            "100/100 - 22s - loss: 0.1236 - accuracy: 0.9595 - val_loss: 0.1281 - val_accuracy: 0.9650 - 22s/epoch - 218ms/step\n",
            "Epoch 16/20\n",
            "100/100 - 21s - loss: 0.1526 - accuracy: 0.9505 - val_loss: 0.1131 - val_accuracy: 0.9690 - 21s/epoch - 215ms/step\n",
            "Epoch 17/20\n",
            "100/100 - 22s - loss: 0.1346 - accuracy: 0.9565 - val_loss: 0.1150 - val_accuracy: 0.9710 - 22s/epoch - 215ms/step\n",
            "Epoch 18/20\n",
            "100/100 - 22s - loss: 0.1198 - accuracy: 0.9555 - val_loss: 0.1313 - val_accuracy: 0.9670 - 22s/epoch - 217ms/step\n",
            "Epoch 19/20\n",
            "100/100 - 22s - loss: 0.1387 - accuracy: 0.9540 - val_loss: 0.1017 - val_accuracy: 0.9700 - 22s/epoch - 216ms/step\n",
            "Epoch 20/20\n",
            "100/100 - 22s - loss: 0.1287 - accuracy: 0.9625 - val_loss: 0.1395 - val_accuracy: 0.9650 - 22s/epoch - 225ms/step\n"
          ]
        }
      ]
    },
    {
      "cell_type": "code",
      "metadata": {
        "id": "C2Fp6Se9rKuL",
        "outputId": "c09eac91-d3cc-4e40-f1ca-9b5b85df64e9",
        "colab": {
          "base_uri": "https://localhost:8080/",
          "height": 298
        }
      },
      "source": [
        "import matplotlib.pyplot as plt\n",
        "acc = history.history['accuracy']\n",
        "val_acc = history.history['val_accuracy']\n",
        "loss = history.history['loss']\n",
        "val_loss = history.history['val_loss']\n",
        "\n",
        "epochs = range(len(acc))\n",
        "\n",
        "plt.plot(epochs, acc, 'r', label='Training accuracy')\n",
        "plt.plot(epochs, val_acc, 'b', label='Validation accuracy')\n",
        "plt.title('Training and validation accuracy')\n",
        "plt.legend(loc=0)\n",
        "plt.figure()\n",
        "\n",
        "\n",
        "plt.show()\n",
        "#the training accuracy is around 90 percent, and the validation is close to 97 percent. That's in pretty good shape. \n",
        "#So let's plot the 20 epochs and we can see that the curves are in sync. This is a good sign that we're avoiding overfitting. "
      ],
      "execution_count": 9,
      "outputs": [
        {
          "output_type": "display_data",
          "data": {
            "image/png": "[encoded data removed]",
            "text/plain": [
              "<Figure size 432x288 with 1 Axes>"
            ]
          },
          "metadata": {
            "needs_background": "light"
          }
        },
        {
          "output_type": "display_data",
          "data": {
            "text/plain": [
              "<Figure size 432x288 with 0 Axes>"
            ]
          },
          "metadata": {}
        }
      ]
    }
  ]
}